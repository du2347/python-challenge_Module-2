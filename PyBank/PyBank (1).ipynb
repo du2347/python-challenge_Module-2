{
 "cells": [
  {
   "cell_type": "code",
   "execution_count": 2,
   "id": "12109525-8009-4913-b882-09620b8c76ab",
   "metadata": {
    "tags": []
   },
   "outputs": [
    {
     "name": "stdout",
     "output_type": "stream",
     "text": [
      "Financial Analysis\n",
      "----------------------------\n",
      "Total Months: 86\n",
      "Total: $38382578\n",
      "Average Change: $-2315.12\n",
      "Greatest Increase in Profits: Feb-2012 ($1926159)\n",
      "Greatest Decrease in Profits: Sep-2013 ($-2196167)\n",
      "Results have been exported to financial_analysis.txt\n"
     ]
    }
   ],
   "source": [
    "import os\n",
    "import csv\n",
    "\n",
    "# Define the path to the CSV file\n",
    "csv_file = \"budget_data.csv\"\n",
    "\n",
    "# Initialize variables to store data\n",
    "total_months = 0\n",
    "net_total = 0\n",
    "previous_profit_loss = 0\n",
    "profit_loss_changes = []\n",
    "greatest_increase = [\"\", 0]\n",
    "greatest_decrease = [\"\", 0]\n",
    "\n",
    "# Open the CSV file\n",
    "with open(csv_file, newline=\"\") as csvfile:\n",
    "    csvreader = csv.reader(csvfile, delimiter=\",\")\n",
    "    next(csvreader)  \n",
    "    \n",
    "    # Loop through the rows in the CSV file\n",
    "    for row in csvreader:\n",
    "        # Calculate the total number of months\n",
    "        total_months += 1\n",
    "        \n",
    "        # Calculate the net total amount of Profit/Losses\n",
    "        current_profit_loss = int(row[1])\n",
    "        net_total += current_profit_loss\n",
    "        \n",
    "        # Calculate the change in Profit/Losses\n",
    "        if total_months == 1:\n",
    "            previous_profit_loss = current_profit_loss\n",
    "        else:\n",
    "            change = current_profit_loss - previous_profit_loss\n",
    "            profit_loss_changes.append(change)\n",
    "            previous_profit_loss = current_profit_loss\n",
    "\n",
    "            # Determine the greatest increase and decrease\n",
    "            if change > greatest_increase[1]:\n",
    "                greatest_increase = [row[0], change]\n",
    "            if change < greatest_decrease[1]:\n",
    "                greatest_decrease = [row[0], change]\n",
    "\n",
    "# Calculate the average change\n",
    "average_change = round(sum(profit_loss_changes) / len(profit_loss_changes), 2)\n",
    "\n",
    "# Print the financial analysis\n",
    "print(\"Financial Analysis\")\n",
    "print(\"----------------------------\")\n",
    "print(f\"Total Months: {total_months}\")\n",
    "print(f\"Total: ${net_total}\")\n",
    "print(f\"Average Change: ${average_change}\")\n",
    "print(f\"Greatest Increase in Profits: {greatest_increase[0]} (${greatest_increase[1]})\")\n",
    "print(f\"Greatest Decrease in Profits: {greatest_decrease[0]} (${greatest_decrease[1]})\")\n",
    "\n",
    "# Export the results to a text file\n",
    "output_file = \"financial_analysis.txt\"\n",
    "with open(output_file, \"w\") as textfile:\n",
    "    textfile.write(\"Financial Analysis\\n\")\n",
    "    textfile.write(\"----------------------------\\n\")\n",
    "    textfile.write(f\"Total Months: {total_months}\\n\")\n",
    "    textfile.write(f\"Total: ${net_total}\\n\")\n",
    "    textfile.write(f\"Average Change: ${average_change}\\n\")\n",
    "    textfile.write(f\"Greatest Increase in Profits: {greatest_increase[0]} (${greatest_increase[1]})\\n\")\n",
    "    textfile.write(f\"Greatest Decrease in Profits: {greatest_decrease[0]} (${greatest_decrease[1]})\\n\")\n",
    "\n",
    "print(\"Results have been exported to financial_analysis.txt\")\n"
   ]
  },
  {
   "cell_type": "code",
   "execution_count": null,
   "id": "8d2a1f75-b9d8-4cfa-9f58-a65dc5073cf6",
   "metadata": {},
   "outputs": [],
   "source": []
  }
 ],
 "metadata": {
  "kernelspec": {
   "display_name": "Python 3 (ipykernel)",
   "language": "python",
   "name": "python3"
  },
  "language_info": {
   "codemirror_mode": {
    "name": "ipython",
    "version": 3
   },
   "file_extension": ".py",
   "mimetype": "text/x-python",
   "name": "python",
   "nbconvert_exporter": "python",
   "pygments_lexer": "ipython3",
   "version": "3.11.5"
  }
 },
 "nbformat": 4,
 "nbformat_minor": 5
}
